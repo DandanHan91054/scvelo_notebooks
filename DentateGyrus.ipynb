{
 "cells": [
  {
   "cell_type": "markdown",
   "metadata": {},
   "source": [
    "##  Stochastic RNA velocity analysis of dentate gyrus using scvelo\n",
    "\n",
    "The dataset used in here for velocity analysis is from the dentate gyrus, a part of the hippocampus which is involved in learning, episodic memory formation and spatial coding. <br>\n",
    "It is measured using 10X Genomics Chromium and described in Hochgerner et al. (2018). The data consists of 25,919 genes across 3,396 cells and provides several interesting characteristics. \n",
    "\n",
    "We use a stochastic version of the model for transcriptional dynamics used in velocyto (developed by the Linnarsson lab and Kharchenko Lab).\n",
    "\n",
    "RNA velocity reference https://www.nature.com/articles/s41586-018-0414-6 <br>\n",
    "This notebook is based on http://pklab.med.harvard.edu/velocyto/notebooks/R/DG1.nb.html\n",
    "\n",
    "Files needed: 10X43_1.loom (will be downloaded automatically) <br> \n",
    "Optional files: DG_umap.npy, DG_clusters.npy"
   ]
  },
  {
   "cell_type": "code",
   "execution_count": 1,
   "metadata": {},
   "outputs": [
    {
     "data": {
      "text/html": [
       "<style>.container { width:90% !important; }</style>"
      ],
      "text/plain": [
       "<IPython.core.display.HTML object>"
      ]
     },
     "metadata": {},
     "output_type": "display_data"
    },
    {
     "name": "stdout",
     "output_type": "stream",
     "text": [
      "Running scvelo 0.1.2+5.g6d56fdd on 2018-08-21 23:06.\n"
     ]
    }
   ],
   "source": [
    "from os import path\n",
    "import numpy as np\n",
    "import matplotlib.pyplot as pl\n",
    "\n",
    "import scvelo as scv\n",
    "import scanpy.api as sc\n",
    "sc.settings.verbosity=3 # i.e. show errors(0), warnings(1), infos(2) and hints(3)\n",
    "\n",
    "from IPython.core.display import display, HTML\n",
    "display(HTML(\"<style>.container { width:90% !important; }</style>\"))\n",
    "%matplotlib inline\n",
    "\n",
    "results_file = './write/DentateGyrus.h5ad' \n",
    "scv.logging.print_version_and_date()"
   ]
  },
  {
   "cell_type": "markdown",
   "metadata": {},
   "source": [
    "## Load and cleanup the data"
   ]
  },
  {
   "cell_type": "code",
   "execution_count": 2,
   "metadata": {},
   "outputs": [
    {
     "name": "stdout",
     "output_type": "stream",
     "text": [
      "... reading from cache file ./cache/data-DentateGyrus-10X43_1.h5ad\n"
     ]
    }
   ],
   "source": [
    "adata = sc.read(\"data/DentateGyrus/10X43_1.loom\", cleanup=True, sparse=True, cache=True, \n",
    "                backup_url=\"http://pklab.med.harvard.edu/velocyto/DG1/10X43_1.loom\")"
   ]
  },
  {
   "cell_type": "code",
   "execution_count": 3,
   "metadata": {},
   "outputs": [
    {
     "name": "stdout",
     "output_type": "stream",
     "text": [
      "Memory usage: current 0.34 GB, difference +0.34 GB\n",
      "abundance of ['spliced', 'unspliced', 'ambiguous']: [0.68 0.08 0.24]\n"
     ]
    },
    {
     "data": {
      "text/plain": [
       "AnnData object with n_obs × n_vars = 3396 × 25919 \n",
       "    obs: '_KMeans_10', 'cr_PC1', 'cr_PC2', 'cr_tSNE1', 'cr_tSNE2'\n",
       "    var: 'Accession', 'Chromosome', 'End', 'Start', 'Strand'\n",
       "    layers: 'spliced', 'unspliced'"
      ]
     },
     "execution_count": 3,
     "metadata": {},
     "output_type": "execute_result"
    }
   ],
   "source": [
    "sc.logging.print_memory_usage()\n",
    "scv.pp.print_fraction_of_abundances(adata, cleanup_layers=True)\n",
    "\n",
    "adata"
   ]
  },
  {
   "cell_type": "markdown",
   "metadata": {},
   "source": [
    "## Preprocess the data"
   ]
  },
  {
   "cell_type": "code",
   "execution_count": 4,
   "metadata": {},
   "outputs": [
    {
     "name": "stdout",
     "output_type": "stream",
     "text": [
      "filtered out 12653 genes that are detected in less than 10 counts\n"
     ]
    }
   ],
   "source": [
    "sc.pp.filter_genes(adata, min_counts=10)\n",
    "sc.pp.filter_genes_dispersion(adata)"
   ]
  },
  {
   "cell_type": "code",
   "execution_count": 5,
   "metadata": {},
   "outputs": [],
   "source": [
    "sc.pp.normalize_per_cell(adata, layers='all')"
   ]
  },
  {
   "cell_type": "markdown",
   "metadata": {},
   "source": [
    "## Compute moments (among nearest neighbors in PCA space)"
   ]
  },
  {
   "cell_type": "code",
   "execution_count": 6,
   "metadata": {},
   "outputs": [
    {
     "name": "stdout",
     "output_type": "stream",
     "text": [
      "computing neighbors\n",
      "    finished (0:00:03.65) --> added to `.uns['neighbors']`\n",
      "    'distances', weighted adjacency matrix\n",
      "    'connectivities', weighted adjacency matrix\n"
     ]
    }
   ],
   "source": [
    "sc.pp.log1p(adata)\n",
    "sc.pp.pca(adata)\n",
    "sc.pp.neighbors(adata, n_neighbors=30, use_rep='X_pca')"
   ]
  },
  {
   "cell_type": "code",
   "execution_count": 7,
   "metadata": {},
   "outputs": [
    {
     "name": "stdout",
     "output_type": "stream",
     "text": [
      "computing moments\n",
      "    finished (0:00:02.12) --> added to `.layers`\n",
      "    'Ms', moments of spliced abundances\n",
      "    'Mu', moments of unspliced abundances\n"
     ]
    }
   ],
   "source": [
    "scv.pp.moments(adata)"
   ]
  },
  {
   "cell_type": "code",
   "execution_count": null,
   "metadata": {},
   "outputs": [],
   "source": [
    "if all([path.exists('./write/DG_clusters.npy'), path.exists('./write/DG_umap.npy')]):\n",
    "    adata.obs['clusters'] = np.load('./write/DG_clusters.npy') \n",
    "    adata.obsm['X_umap'] = np.load('./write/DG_umap.npy')\n",
    "else:\n",
    "    sc.tl.louvain(adata, resolution=.7, random_state=4)\n",
    "    sc.tl.umap(adata, min_dist=.6, random_state=4)"
   ]
  },
  {
   "cell_type": "markdown",
   "metadata": {},
   "source": [
    "## Compute velocity and velocity graph\n",
    "We compute velocity by distinguishing mature from precursor mRNA. We keep the gene that contain predictive information (indicated by correlation between precursor and mature mRNA). We compute cosine correlations between potential cell state changes and corresponding velocities"
   ]
  },
  {
   "cell_type": "code",
   "execution_count": null,
   "metadata": {},
   "outputs": [
    {
     "name": "stdout",
     "output_type": "stream",
     "text": [
      "computing velocities\n"
     ]
    }
   ],
   "source": [
    "scv.tl.velocity(adata, filter_genes=True)"
   ]
  },
  {
   "cell_type": "code",
   "execution_count": null,
   "metadata": {
    "scrolled": true
   },
   "outputs": [],
   "source": [
    "scv.tl.velocity_graph(adata, n_recurse_neighbors=2)"
   ]
  },
  {
   "cell_type": "markdown",
   "metadata": {},
   "source": [
    "## Project the velocity graph onto an embedding"
   ]
  },
  {
   "cell_type": "code",
   "execution_count": null,
   "metadata": {},
   "outputs": [],
   "source": [
    "scv.tl.velocity_embedding(adata, basis='umap')"
   ]
  },
  {
   "cell_type": "markdown",
   "metadata": {},
   "source": [
    "## Cluster and annotate the data"
   ]
  },
  {
   "cell_type": "code",
   "execution_count": null,
   "metadata": {
    "scrolled": false
   },
   "outputs": [],
   "source": [
    "scv.pl.velocity_embedding(adata, basis='umap', color='clusters', scale=2.5, legend_loc='on data')"
   ]
  },
  {
   "cell_type": "code",
   "execution_count": null,
   "metadata": {},
   "outputs": [],
   "source": [
    "scv.pl.velocity_embedding_grid(adata, basis='umap', color='clusters', density=1.2, scale=1.5)"
   ]
  },
  {
   "cell_type": "code",
   "execution_count": null,
   "metadata": {},
   "outputs": [],
   "source": [
    "scv.pl.velocity(adata, var_names=['Tmsb10', 'Camk2a', 'Snca'], color='clusters')"
   ]
  },
  {
   "cell_type": "code",
   "execution_count": null,
   "metadata": {},
   "outputs": [],
   "source": [
    "pl.figure(None, (12,6), dpi=120)\n",
    "gs = pl.GridSpec(1,2)\n",
    "\n",
    "ax = pl.subplot(gs[0])\n",
    "#sc.pl.scatter(adata, basis='umap', color='Tmsb10', layers='velocity', color_map='RdBu_r', ax=ax)\n",
    "scv.pl.scatter(adata, basis='umap', color='Tmsb10', layer='velocity', alpha=1, size=2, color_map='RdBu_r', title='Tmsb10 velocity')\n",
    "pl.colorbar(orientation='horizontal', shrink=.4, ticks=[-1,0,1])\n",
    "\n",
    "ax = pl.subplot(gs[1])\n",
    "scv.pl.scatter(adata, basis='umap', color='Tmsb10', layer='Ms', alpha=1, size=2, color_map='RdBu_r', title='Tmsb10 expression')\n",
    "pl.colorbar(orientation='horizontal', shrink=.4, ticks=[0,10,20,30])"
   ]
  }
 ],
 "metadata": {
  "kernelspec": {
   "display_name": "Python 3",
   "language": "python",
   "name": "python3"
  },
  "language_info": {
   "codemirror_mode": {
    "name": "ipython",
    "version": 3
   },
   "file_extension": ".py",
   "mimetype": "text/x-python",
   "name": "python",
   "nbconvert_exporter": "python",
   "pygments_lexer": "ipython3",
   "version": "3.6.4"
  }
 },
 "nbformat": 4,
 "nbformat_minor": 2
}
